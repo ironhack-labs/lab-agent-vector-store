{
 "cells": [
  {
   "cell_type": "markdown",
   "id": "efad6479-7fb1-40c4-8610-8963f8de307f",
   "metadata": {},
   "source": [
    "# Lab | Agent & Vector store\n",
    "\n",
    "**Change the state union dataset and replicate this lab by updating the prompts accordingly.**\n",
    "\n",
    "One such dataset is the [sonnets.txt](https://github.com/martin-gorner/tensorflow-rnn-shakespeare/blob/master/shakespeare/sonnets.txt) dataset or any other data of your choice from the same git."
   ]
  },
  {
   "cell_type": "markdown",
   "id": "68b24990",
   "metadata": {},
   "source": [
    "# Combine agents and vector stores\n",
    "\n",
    "This notebook covers how to combine agents and vector stores. The use case for this is that you've ingested your data into a vector store and want to interact with it in an agentic manner.\n",
    "\n",
    "The recommended method for doing so is to create a `RetrievalQA` and then use that as a tool in the overall agent. Let's take a look at doing this below. You can do this with multiple different vector DBs, and use the agent as a way to route between them. There are two different ways of doing this - you can either let the agent use the vector stores as normal tools, or you can set `return_direct=True` to really just use the agent as a router."
   ]
  },
  {
   "cell_type": "markdown",
   "id": "9b22020a",
   "metadata": {},
   "source": [
    "## Create the vector store"
   ]
  },
  {
   "cell_type": "code",
   "execution_count": 1,
   "id": "12df91e0-7322-43c2-96cd-0159d017a1e1",
   "metadata": {
    "tags": []
   },
   "outputs": [
    {
     "name": "stdout",
     "output_type": "stream",
     "text": [
      "Requirement already satisfied: chromadb in /Users/brunoaugusto/Library/CloudStorage/OneDrive-Pessoal/01.Bruno/01.Ironhack learning Mat/.conda/lib/python3.9/site-packages (0.6.2)\n",
      "Requirement already satisfied: build>=1.0.3 in /Users/brunoaugusto/Library/CloudStorage/OneDrive-Pessoal/01.Bruno/01.Ironhack learning Mat/.conda/lib/python3.9/site-packages (from chromadb) (1.2.2.post1)\n",
      "Requirement already satisfied: pydantic>=1.9 in /Users/brunoaugusto/Library/CloudStorage/OneDrive-Pessoal/01.Bruno/01.Ironhack learning Mat/.conda/lib/python3.9/site-packages (from chromadb) (2.10.3)\n",
      "Requirement already satisfied: chroma-hnswlib==0.7.6 in /Users/brunoaugusto/Library/CloudStorage/OneDrive-Pessoal/01.Bruno/01.Ironhack learning Mat/.conda/lib/python3.9/site-packages (from chromadb) (0.7.6)\n",
      "Requirement already satisfied: fastapi>=0.95.2 in /Users/brunoaugusto/Library/CloudStorage/OneDrive-Pessoal/01.Bruno/01.Ironhack learning Mat/.conda/lib/python3.9/site-packages (from chromadb) (0.115.6)\n",
      "Requirement already satisfied: uvicorn>=0.18.3 in /Users/brunoaugusto/Library/CloudStorage/OneDrive-Pessoal/01.Bruno/01.Ironhack learning Mat/.conda/lib/python3.9/site-packages (from uvicorn[standard]>=0.18.3->chromadb) (0.34.0)\n",
      "Requirement already satisfied: numpy>=1.22.5 in /Users/brunoaugusto/Library/CloudStorage/OneDrive-Pessoal/01.Bruno/01.Ironhack learning Mat/.conda/lib/python3.9/site-packages (from chromadb) (1.24.2)\n",
      "Requirement already satisfied: posthog>=2.4.0 in /Users/brunoaugusto/Library/CloudStorage/OneDrive-Pessoal/01.Bruno/01.Ironhack learning Mat/.conda/lib/python3.9/site-packages (from chromadb) (3.7.5)\n",
      "Requirement already satisfied: typing_extensions>=4.5.0 in /Users/brunoaugusto/Library/CloudStorage/OneDrive-Pessoal/01.Bruno/01.Ironhack learning Mat/.conda/lib/python3.9/site-packages (from chromadb) (4.12.2)\n",
      "Requirement already satisfied: onnxruntime>=1.14.1 in /Users/brunoaugusto/Library/CloudStorage/OneDrive-Pessoal/01.Bruno/01.Ironhack learning Mat/.conda/lib/python3.9/site-packages (from chromadb) (1.19.2)\n",
      "Requirement already satisfied: opentelemetry-api>=1.2.0 in /Users/brunoaugusto/Library/CloudStorage/OneDrive-Pessoal/01.Bruno/01.Ironhack learning Mat/.conda/lib/python3.9/site-packages (from chromadb) (1.29.0)\n",
      "Requirement already satisfied: opentelemetry-exporter-otlp-proto-grpc>=1.2.0 in /Users/brunoaugusto/Library/CloudStorage/OneDrive-Pessoal/01.Bruno/01.Ironhack learning Mat/.conda/lib/python3.9/site-packages (from chromadb) (1.29.0)\n",
      "Requirement already satisfied: opentelemetry-instrumentation-fastapi>=0.41b0 in /Users/brunoaugusto/Library/CloudStorage/OneDrive-Pessoal/01.Bruno/01.Ironhack learning Mat/.conda/lib/python3.9/site-packages (from chromadb) (0.50b0)\n",
      "Requirement already satisfied: opentelemetry-sdk>=1.2.0 in /Users/brunoaugusto/Library/CloudStorage/OneDrive-Pessoal/01.Bruno/01.Ironhack learning Mat/.conda/lib/python3.9/site-packages (from chromadb) (1.29.0)\n",
      "Requirement already satisfied: tokenizers>=0.13.2 in /Users/brunoaugusto/Library/CloudStorage/OneDrive-Pessoal/01.Bruno/01.Ironhack learning Mat/.conda/lib/python3.9/site-packages (from chromadb) (0.21.0)\n",
      "Requirement already satisfied: pypika>=0.48.9 in /Users/brunoaugusto/Library/CloudStorage/OneDrive-Pessoal/01.Bruno/01.Ironhack learning Mat/.conda/lib/python3.9/site-packages (from chromadb) (0.48.9)\n",
      "Requirement already satisfied: tqdm>=4.65.0 in /Users/brunoaugusto/Library/CloudStorage/OneDrive-Pessoal/01.Bruno/01.Ironhack learning Mat/.conda/lib/python3.9/site-packages (from chromadb) (4.67.1)\n",
      "Requirement already satisfied: overrides>=7.3.1 in /Users/brunoaugusto/Library/CloudStorage/OneDrive-Pessoal/01.Bruno/01.Ironhack learning Mat/.conda/lib/python3.9/site-packages (from chromadb) (7.7.0)\n",
      "Requirement already satisfied: importlib-resources in /Users/brunoaugusto/Library/CloudStorage/OneDrive-Pessoal/01.Bruno/01.Ironhack learning Mat/.conda/lib/python3.9/site-packages (from chromadb) (6.4.5)\n",
      "Requirement already satisfied: grpcio>=1.58.0 in /Users/brunoaugusto/Library/CloudStorage/OneDrive-Pessoal/01.Bruno/01.Ironhack learning Mat/.conda/lib/python3.9/site-packages (from chromadb) (1.66.2)\n",
      "Requirement already satisfied: bcrypt>=4.0.1 in /Users/brunoaugusto/Library/CloudStorage/OneDrive-Pessoal/01.Bruno/01.Ironhack learning Mat/.conda/lib/python3.9/site-packages (from chromadb) (4.2.1)\n",
      "Requirement already satisfied: typer>=0.9.0 in /Users/brunoaugusto/Library/CloudStorage/OneDrive-Pessoal/01.Bruno/01.Ironhack learning Mat/.conda/lib/python3.9/site-packages (from chromadb) (0.15.1)\n",
      "Requirement already satisfied: kubernetes>=28.1.0 in /Users/brunoaugusto/Library/CloudStorage/OneDrive-Pessoal/01.Bruno/01.Ironhack learning Mat/.conda/lib/python3.9/site-packages (from chromadb) (31.0.0)\n",
      "Requirement already satisfied: tenacity>=8.2.3 in /Users/brunoaugusto/Library/CloudStorage/OneDrive-Pessoal/01.Bruno/01.Ironhack learning Mat/.conda/lib/python3.9/site-packages (from chromadb) (9.0.0)\n",
      "Requirement already satisfied: PyYAML>=6.0.0 in /Users/brunoaugusto/Library/CloudStorage/OneDrive-Pessoal/01.Bruno/01.Ironhack learning Mat/.conda/lib/python3.9/site-packages (from chromadb) (6.0.2)\n",
      "Requirement already satisfied: mmh3>=4.0.1 in /Users/brunoaugusto/Library/CloudStorage/OneDrive-Pessoal/01.Bruno/01.Ironhack learning Mat/.conda/lib/python3.9/site-packages (from chromadb) (5.0.1)\n",
      "Requirement already satisfied: orjson>=3.9.12 in /Users/brunoaugusto/Library/CloudStorage/OneDrive-Pessoal/01.Bruno/01.Ironhack learning Mat/.conda/lib/python3.9/site-packages (from chromadb) (3.10.12)\n",
      "Requirement already satisfied: httpx>=0.27.0 in /Users/brunoaugusto/Library/CloudStorage/OneDrive-Pessoal/01.Bruno/01.Ironhack learning Mat/.conda/lib/python3.9/site-packages (from chromadb) (0.28.1)\n",
      "Requirement already satisfied: rich>=10.11.0 in /Users/brunoaugusto/Library/CloudStorage/OneDrive-Pessoal/01.Bruno/01.Ironhack learning Mat/.conda/lib/python3.9/site-packages (from chromadb) (13.9.2)\n",
      "Requirement already satisfied: packaging>=19.1 in /Users/brunoaugusto/Library/CloudStorage/OneDrive-Pessoal/01.Bruno/01.Ironhack learning Mat/.conda/lib/python3.9/site-packages (from build>=1.0.3->chromadb) (24.1)\n",
      "Requirement already satisfied: pyproject_hooks in /Users/brunoaugusto/Library/CloudStorage/OneDrive-Pessoal/01.Bruno/01.Ironhack learning Mat/.conda/lib/python3.9/site-packages (from build>=1.0.3->chromadb) (1.2.0)\n",
      "Requirement already satisfied: importlib-metadata>=4.6 in /Users/brunoaugusto/Library/CloudStorage/OneDrive-Pessoal/01.Bruno/01.Ironhack learning Mat/.conda/lib/python3.9/site-packages (from build>=1.0.3->chromadb) (7.0.1)\n",
      "Requirement already satisfied: tomli>=1.1.0 in /Users/brunoaugusto/Library/CloudStorage/OneDrive-Pessoal/01.Bruno/01.Ironhack learning Mat/.conda/lib/python3.9/site-packages (from build>=1.0.3->chromadb) (2.2.1)\n",
      "Requirement already satisfied: starlette<0.42.0,>=0.40.0 in /Users/brunoaugusto/Library/CloudStorage/OneDrive-Pessoal/01.Bruno/01.Ironhack learning Mat/.conda/lib/python3.9/site-packages (from fastapi>=0.95.2->chromadb) (0.41.3)\n",
      "Requirement already satisfied: anyio in /Users/brunoaugusto/Library/CloudStorage/OneDrive-Pessoal/01.Bruno/01.Ironhack learning Mat/.conda/lib/python3.9/site-packages (from httpx>=0.27.0->chromadb) (4.7.0)\n",
      "Requirement already satisfied: certifi in /Users/brunoaugusto/Library/CloudStorage/OneDrive-Pessoal/01.Bruno/01.Ironhack learning Mat/.conda/lib/python3.9/site-packages (from httpx>=0.27.0->chromadb) (2024.12.14)\n",
      "Requirement already satisfied: httpcore==1.* in /Users/brunoaugusto/Library/CloudStorage/OneDrive-Pessoal/01.Bruno/01.Ironhack learning Mat/.conda/lib/python3.9/site-packages (from httpx>=0.27.0->chromadb) (1.0.7)\n",
      "Requirement already satisfied: idna in /Users/brunoaugusto/Library/CloudStorage/OneDrive-Pessoal/01.Bruno/01.Ironhack learning Mat/.conda/lib/python3.9/site-packages (from httpx>=0.27.0->chromadb) (3.10)\n",
      "Requirement already satisfied: h11<0.15,>=0.13 in /Users/brunoaugusto/Library/CloudStorage/OneDrive-Pessoal/01.Bruno/01.Ironhack learning Mat/.conda/lib/python3.9/site-packages (from httpcore==1.*->httpx>=0.27.0->chromadb) (0.14.0)\n",
      "Requirement already satisfied: six>=1.9.0 in /Users/brunoaugusto/Library/CloudStorage/OneDrive-Pessoal/01.Bruno/01.Ironhack learning Mat/.conda/lib/python3.9/site-packages (from kubernetes>=28.1.0->chromadb) (1.16.0)\n",
      "Requirement already satisfied: python-dateutil>=2.5.3 in /Users/brunoaugusto/Library/CloudStorage/OneDrive-Pessoal/01.Bruno/01.Ironhack learning Mat/.conda/lib/python3.9/site-packages (from kubernetes>=28.1.0->chromadb) (2.9.0.post0)\n",
      "Requirement already satisfied: google-auth>=1.0.1 in /Users/brunoaugusto/Library/CloudStorage/OneDrive-Pessoal/01.Bruno/01.Ironhack learning Mat/.conda/lib/python3.9/site-packages (from kubernetes>=28.1.0->chromadb) (2.37.0)\n",
      "Requirement already satisfied: websocket-client!=0.40.0,!=0.41.*,!=0.42.*,>=0.32.0 in /Users/brunoaugusto/Library/CloudStorage/OneDrive-Pessoal/01.Bruno/01.Ironhack learning Mat/.conda/lib/python3.9/site-packages (from kubernetes>=28.1.0->chromadb) (1.8.0)\n",
      "Requirement already satisfied: requests in /Users/brunoaugusto/Library/CloudStorage/OneDrive-Pessoal/01.Bruno/01.Ironhack learning Mat/.conda/lib/python3.9/site-packages (from kubernetes>=28.1.0->chromadb) (2.32.3)\n",
      "Requirement already satisfied: requests-oauthlib in /Users/brunoaugusto/Library/CloudStorage/OneDrive-Pessoal/01.Bruno/01.Ironhack learning Mat/.conda/lib/python3.9/site-packages (from kubernetes>=28.1.0->chromadb) (2.0.0)\n",
      "Requirement already satisfied: oauthlib>=3.2.2 in /Users/brunoaugusto/Library/CloudStorage/OneDrive-Pessoal/01.Bruno/01.Ironhack learning Mat/.conda/lib/python3.9/site-packages (from kubernetes>=28.1.0->chromadb) (3.2.2)\n",
      "Requirement already satisfied: urllib3>=1.24.2 in /Users/brunoaugusto/Library/CloudStorage/OneDrive-Pessoal/01.Bruno/01.Ironhack learning Mat/.conda/lib/python3.9/site-packages (from kubernetes>=28.1.0->chromadb) (2.2.3)\n",
      "Requirement already satisfied: durationpy>=0.7 in /Users/brunoaugusto/Library/CloudStorage/OneDrive-Pessoal/01.Bruno/01.Ironhack learning Mat/.conda/lib/python3.9/site-packages (from kubernetes>=28.1.0->chromadb) (0.9)\n",
      "Requirement already satisfied: coloredlogs in /Users/brunoaugusto/Library/CloudStorage/OneDrive-Pessoal/01.Bruno/01.Ironhack learning Mat/.conda/lib/python3.9/site-packages (from onnxruntime>=1.14.1->chromadb) (15.0.1)\n",
      "Requirement already satisfied: flatbuffers in /Users/brunoaugusto/Library/CloudStorage/OneDrive-Pessoal/01.Bruno/01.Ironhack learning Mat/.conda/lib/python3.9/site-packages (from onnxruntime>=1.14.1->chromadb) (24.3.25)\n",
      "Requirement already satisfied: protobuf in /Users/brunoaugusto/Library/CloudStorage/OneDrive-Pessoal/01.Bruno/01.Ironhack learning Mat/.conda/lib/python3.9/site-packages (from onnxruntime>=1.14.1->chromadb) (5.29.2)\n",
      "Requirement already satisfied: sympy in /Users/brunoaugusto/Library/CloudStorage/OneDrive-Pessoal/01.Bruno/01.Ironhack learning Mat/.conda/lib/python3.9/site-packages (from onnxruntime>=1.14.1->chromadb) (1.13.3)\n",
      "Requirement already satisfied: deprecated>=1.2.6 in /Users/brunoaugusto/Library/CloudStorage/OneDrive-Pessoal/01.Bruno/01.Ironhack learning Mat/.conda/lib/python3.9/site-packages (from opentelemetry-api>=1.2.0->chromadb) (1.2.15)\n",
      "Requirement already satisfied: googleapis-common-protos~=1.52 in /Users/brunoaugusto/Library/CloudStorage/OneDrive-Pessoal/01.Bruno/01.Ironhack learning Mat/.conda/lib/python3.9/site-packages (from opentelemetry-exporter-otlp-proto-grpc>=1.2.0->chromadb) (1.66.0)\n",
      "Requirement already satisfied: opentelemetry-exporter-otlp-proto-common==1.29.0 in /Users/brunoaugusto/Library/CloudStorage/OneDrive-Pessoal/01.Bruno/01.Ironhack learning Mat/.conda/lib/python3.9/site-packages (from opentelemetry-exporter-otlp-proto-grpc>=1.2.0->chromadb) (1.29.0)\n",
      "Requirement already satisfied: opentelemetry-proto==1.29.0 in /Users/brunoaugusto/Library/CloudStorage/OneDrive-Pessoal/01.Bruno/01.Ironhack learning Mat/.conda/lib/python3.9/site-packages (from opentelemetry-exporter-otlp-proto-grpc>=1.2.0->chromadb) (1.29.0)\n",
      "Requirement already satisfied: opentelemetry-instrumentation-asgi==0.50b0 in /Users/brunoaugusto/Library/CloudStorage/OneDrive-Pessoal/01.Bruno/01.Ironhack learning Mat/.conda/lib/python3.9/site-packages (from opentelemetry-instrumentation-fastapi>=0.41b0->chromadb) (0.50b0)\n",
      "Requirement already satisfied: opentelemetry-instrumentation==0.50b0 in /Users/brunoaugusto/Library/CloudStorage/OneDrive-Pessoal/01.Bruno/01.Ironhack learning Mat/.conda/lib/python3.9/site-packages (from opentelemetry-instrumentation-fastapi>=0.41b0->chromadb) (0.50b0)\n",
      "Requirement already satisfied: opentelemetry-semantic-conventions==0.50b0 in /Users/brunoaugusto/Library/CloudStorage/OneDrive-Pessoal/01.Bruno/01.Ironhack learning Mat/.conda/lib/python3.9/site-packages (from opentelemetry-instrumentation-fastapi>=0.41b0->chromadb) (0.50b0)\n",
      "Requirement already satisfied: opentelemetry-util-http==0.50b0 in /Users/brunoaugusto/Library/CloudStorage/OneDrive-Pessoal/01.Bruno/01.Ironhack learning Mat/.conda/lib/python3.9/site-packages (from opentelemetry-instrumentation-fastapi>=0.41b0->chromadb) (0.50b0)\n",
      "Requirement already satisfied: wrapt<2.0.0,>=1.0.0 in /Users/brunoaugusto/Library/CloudStorage/OneDrive-Pessoal/01.Bruno/01.Ironhack learning Mat/.conda/lib/python3.9/site-packages (from opentelemetry-instrumentation==0.50b0->opentelemetry-instrumentation-fastapi>=0.41b0->chromadb) (1.16.0)\n",
      "Requirement already satisfied: asgiref~=3.0 in /Users/brunoaugusto/Library/CloudStorage/OneDrive-Pessoal/01.Bruno/01.Ironhack learning Mat/.conda/lib/python3.9/site-packages (from opentelemetry-instrumentation-asgi==0.50b0->opentelemetry-instrumentation-fastapi>=0.41b0->chromadb) (3.8.1)\n",
      "Requirement already satisfied: monotonic>=1.5 in /Users/brunoaugusto/Library/CloudStorage/OneDrive-Pessoal/01.Bruno/01.Ironhack learning Mat/.conda/lib/python3.9/site-packages (from posthog>=2.4.0->chromadb) (1.6)\n",
      "Requirement already satisfied: backoff>=1.10.0 in /Users/brunoaugusto/Library/CloudStorage/OneDrive-Pessoal/01.Bruno/01.Ironhack learning Mat/.conda/lib/python3.9/site-packages (from posthog>=2.4.0->chromadb) (2.2.1)\n",
      "Requirement already satisfied: annotated-types>=0.6.0 in /Users/brunoaugusto/Library/CloudStorage/OneDrive-Pessoal/01.Bruno/01.Ironhack learning Mat/.conda/lib/python3.9/site-packages (from pydantic>=1.9->chromadb) (0.7.0)\n",
      "Requirement already satisfied: pydantic-core==2.27.1 in /Users/brunoaugusto/Library/CloudStorage/OneDrive-Pessoal/01.Bruno/01.Ironhack learning Mat/.conda/lib/python3.9/site-packages (from pydantic>=1.9->chromadb) (2.27.1)\n",
      "Requirement already satisfied: markdown-it-py>=2.2.0 in /Users/brunoaugusto/Library/CloudStorage/OneDrive-Pessoal/01.Bruno/01.Ironhack learning Mat/.conda/lib/python3.9/site-packages (from rich>=10.11.0->chromadb) (3.0.0)\n",
      "Requirement already satisfied: pygments<3.0.0,>=2.13.0 in /Users/brunoaugusto/Library/CloudStorage/OneDrive-Pessoal/01.Bruno/01.Ironhack learning Mat/.conda/lib/python3.9/site-packages (from rich>=10.11.0->chromadb) (2.15.1)\n",
      "Requirement already satisfied: huggingface-hub<1.0,>=0.16.4 in /Users/brunoaugusto/Library/CloudStorage/OneDrive-Pessoal/01.Bruno/01.Ironhack learning Mat/.conda/lib/python3.9/site-packages (from tokenizers>=0.13.2->chromadb) (0.27.0)\n",
      "Requirement already satisfied: click>=8.0.0 in /Users/brunoaugusto/Library/CloudStorage/OneDrive-Pessoal/01.Bruno/01.Ironhack learning Mat/.conda/lib/python3.9/site-packages (from typer>=0.9.0->chromadb) (8.1.8)\n",
      "Requirement already satisfied: shellingham>=1.3.0 in /Users/brunoaugusto/Library/CloudStorage/OneDrive-Pessoal/01.Bruno/01.Ironhack learning Mat/.conda/lib/python3.9/site-packages (from typer>=0.9.0->chromadb) (1.5.4)\n",
      "Requirement already satisfied: httptools>=0.6.3 in /Users/brunoaugusto/Library/CloudStorage/OneDrive-Pessoal/01.Bruno/01.Ironhack learning Mat/.conda/lib/python3.9/site-packages (from uvicorn[standard]>=0.18.3->chromadb) (0.6.4)\n",
      "Requirement already satisfied: python-dotenv>=0.13 in /Users/brunoaugusto/Library/CloudStorage/OneDrive-Pessoal/01.Bruno/01.Ironhack learning Mat/.conda/lib/python3.9/site-packages (from uvicorn[standard]>=0.18.3->chromadb) (1.0.1)\n",
      "Requirement already satisfied: uvloop!=0.15.0,!=0.15.1,>=0.14.0 in /Users/brunoaugusto/Library/CloudStorage/OneDrive-Pessoal/01.Bruno/01.Ironhack learning Mat/.conda/lib/python3.9/site-packages (from uvicorn[standard]>=0.18.3->chromadb) (0.21.0)\n",
      "Requirement already satisfied: watchfiles>=0.13 in /Users/brunoaugusto/Library/CloudStorage/OneDrive-Pessoal/01.Bruno/01.Ironhack learning Mat/.conda/lib/python3.9/site-packages (from uvicorn[standard]>=0.18.3->chromadb) (1.0.3)\n",
      "Requirement already satisfied: websockets>=10.4 in /Users/brunoaugusto/Library/CloudStorage/OneDrive-Pessoal/01.Bruno/01.Ironhack learning Mat/.conda/lib/python3.9/site-packages (from uvicorn[standard]>=0.18.3->chromadb) (14.1)\n",
      "Requirement already satisfied: zipp>=3.1.0 in /Users/brunoaugusto/Library/CloudStorage/OneDrive-Pessoal/01.Bruno/01.Ironhack learning Mat/.conda/lib/python3.9/site-packages (from importlib-resources->chromadb) (3.17.0)\n",
      "Requirement already satisfied: cachetools<6.0,>=2.0.0 in /Users/brunoaugusto/Library/CloudStorage/OneDrive-Pessoal/01.Bruno/01.Ironhack learning Mat/.conda/lib/python3.9/site-packages (from google-auth>=1.0.1->kubernetes>=28.1.0->chromadb) (5.5.0)\n",
      "Requirement already satisfied: pyasn1-modules>=0.2.1 in /Users/brunoaugusto/Library/CloudStorage/OneDrive-Pessoal/01.Bruno/01.Ironhack learning Mat/.conda/lib/python3.9/site-packages (from google-auth>=1.0.1->kubernetes>=28.1.0->chromadb) (0.4.1)\n",
      "Requirement already satisfied: rsa<5,>=3.1.4 in /Users/brunoaugusto/Library/CloudStorage/OneDrive-Pessoal/01.Bruno/01.Ironhack learning Mat/.conda/lib/python3.9/site-packages (from google-auth>=1.0.1->kubernetes>=28.1.0->chromadb) (4.9)\n",
      "Requirement already satisfied: filelock in /Users/brunoaugusto/Library/CloudStorage/OneDrive-Pessoal/01.Bruno/01.Ironhack learning Mat/.conda/lib/python3.9/site-packages (from huggingface-hub<1.0,>=0.16.4->tokenizers>=0.13.2->chromadb) (3.16.1)\n",
      "Requirement already satisfied: fsspec>=2023.5.0 in /Users/brunoaugusto/Library/CloudStorage/OneDrive-Pessoal/01.Bruno/01.Ironhack learning Mat/.conda/lib/python3.9/site-packages (from huggingface-hub<1.0,>=0.16.4->tokenizers>=0.13.2->chromadb) (2024.9.0)\n",
      "Requirement already satisfied: mdurl~=0.1 in /Users/brunoaugusto/Library/CloudStorage/OneDrive-Pessoal/01.Bruno/01.Ironhack learning Mat/.conda/lib/python3.9/site-packages (from markdown-it-py>=2.2.0->rich>=10.11.0->chromadb) (0.1.2)\n",
      "Requirement already satisfied: charset_normalizer<4,>=2 in /Users/brunoaugusto/Library/CloudStorage/OneDrive-Pessoal/01.Bruno/01.Ironhack learning Mat/.conda/lib/python3.9/site-packages (from requests->kubernetes>=28.1.0->chromadb) (3.4.0)\n",
      "Requirement already satisfied: exceptiongroup>=1.0.2 in /Users/brunoaugusto/Library/CloudStorage/OneDrive-Pessoal/01.Bruno/01.Ironhack learning Mat/.conda/lib/python3.9/site-packages (from anyio->httpx>=0.27.0->chromadb) (1.2.0)\n",
      "Requirement already satisfied: sniffio>=1.1 in /Users/brunoaugusto/Library/CloudStorage/OneDrive-Pessoal/01.Bruno/01.Ironhack learning Mat/.conda/lib/python3.9/site-packages (from anyio->httpx>=0.27.0->chromadb) (1.3.1)\n",
      "Requirement already satisfied: humanfriendly>=9.1 in /Users/brunoaugusto/Library/CloudStorage/OneDrive-Pessoal/01.Bruno/01.Ironhack learning Mat/.conda/lib/python3.9/site-packages (from coloredlogs->onnxruntime>=1.14.1->chromadb) (10.0)\n",
      "Requirement already satisfied: mpmath<1.4,>=1.1.0 in /Users/brunoaugusto/Library/CloudStorage/OneDrive-Pessoal/01.Bruno/01.Ironhack learning Mat/.conda/lib/python3.9/site-packages (from sympy->onnxruntime>=1.14.1->chromadb) (1.3.0)\n",
      "Requirement already satisfied: pyasn1<0.7.0,>=0.4.6 in /Users/brunoaugusto/Library/CloudStorage/OneDrive-Pessoal/01.Bruno/01.Ironhack learning Mat/.conda/lib/python3.9/site-packages (from pyasn1-modules>=0.2.1->google-auth>=1.0.1->kubernetes>=28.1.0->chromadb) (0.6.1)\n"
     ]
    }
   ],
   "source": [
    "!pip install chromadb"
   ]
  },
  {
   "cell_type": "code",
   "execution_count": 3,
   "id": "482f0c6e",
   "metadata": {},
   "outputs": [
    {
     "name": "stdout",
     "output_type": "stream",
     "text": [
      "Collecting langchain-community\n",
      "  Downloading langchain_community-0.3.14-py3-none-any.whl.metadata (2.9 kB)\n",
      "Requirement already satisfied: PyYAML>=5.3 in /Users/brunoaugusto/Library/CloudStorage/OneDrive-Pessoal/01.Bruno/01.Ironhack learning Mat/.conda/lib/python3.9/site-packages (from langchain-community) (6.0.2)\n",
      "Requirement already satisfied: SQLAlchemy<3,>=1.4 in /Users/brunoaugusto/Library/CloudStorage/OneDrive-Pessoal/01.Bruno/01.Ironhack learning Mat/.conda/lib/python3.9/site-packages (from langchain-community) (2.0.36)\n",
      "Requirement already satisfied: aiohttp<4.0.0,>=3.8.3 in /Users/brunoaugusto/Library/CloudStorage/OneDrive-Pessoal/01.Bruno/01.Ironhack learning Mat/.conda/lib/python3.9/site-packages (from langchain-community) (3.11.10)\n",
      "Collecting dataclasses-json<0.7,>=0.5.7 (from langchain-community)\n",
      "  Downloading dataclasses_json-0.6.7-py3-none-any.whl.metadata (25 kB)\n",
      "Collecting httpx-sse<0.5.0,>=0.4.0 (from langchain-community)\n",
      "  Downloading httpx_sse-0.4.0-py3-none-any.whl.metadata (9.0 kB)\n",
      "Collecting langchain<0.4.0,>=0.3.14 (from langchain-community)\n",
      "  Downloading langchain-0.3.14-py3-none-any.whl.metadata (7.1 kB)\n",
      "Collecting langchain-core<0.4.0,>=0.3.29 (from langchain-community)\n",
      "  Downloading langchain_core-0.3.29-py3-none-any.whl.metadata (6.3 kB)\n",
      "Requirement already satisfied: langsmith<0.3,>=0.1.125 in /Users/brunoaugusto/Library/CloudStorage/OneDrive-Pessoal/01.Bruno/01.Ironhack learning Mat/.conda/lib/python3.9/site-packages (from langchain-community) (0.2.3)\n",
      "Requirement already satisfied: numpy<2,>=1.22.4 in /Users/brunoaugusto/Library/CloudStorage/OneDrive-Pessoal/01.Bruno/01.Ironhack learning Mat/.conda/lib/python3.9/site-packages (from langchain-community) (1.24.2)\n",
      "Collecting pydantic-settings<3.0.0,>=2.4.0 (from langchain-community)\n",
      "  Downloading pydantic_settings-2.7.1-py3-none-any.whl.metadata (3.5 kB)\n",
      "Requirement already satisfied: requests<3,>=2 in /Users/brunoaugusto/Library/CloudStorage/OneDrive-Pessoal/01.Bruno/01.Ironhack learning Mat/.conda/lib/python3.9/site-packages (from langchain-community) (2.32.3)\n",
      "Requirement already satisfied: tenacity!=8.4.0,<10,>=8.1.0 in /Users/brunoaugusto/Library/CloudStorage/OneDrive-Pessoal/01.Bruno/01.Ironhack learning Mat/.conda/lib/python3.9/site-packages (from langchain-community) (9.0.0)\n",
      "Requirement already satisfied: aiohappyeyeballs>=2.3.0 in /Users/brunoaugusto/Library/CloudStorage/OneDrive-Pessoal/01.Bruno/01.Ironhack learning Mat/.conda/lib/python3.9/site-packages (from aiohttp<4.0.0,>=3.8.3->langchain-community) (2.4.4)\n",
      "Requirement already satisfied: aiosignal>=1.1.2 in /Users/brunoaugusto/Library/CloudStorage/OneDrive-Pessoal/01.Bruno/01.Ironhack learning Mat/.conda/lib/python3.9/site-packages (from aiohttp<4.0.0,>=3.8.3->langchain-community) (1.3.2)\n",
      "Requirement already satisfied: async-timeout<6.0,>=4.0 in /Users/brunoaugusto/Library/CloudStorage/OneDrive-Pessoal/01.Bruno/01.Ironhack learning Mat/.conda/lib/python3.9/site-packages (from aiohttp<4.0.0,>=3.8.3->langchain-community) (4.0.3)\n",
      "Requirement already satisfied: attrs>=17.3.0 in /Users/brunoaugusto/Library/CloudStorage/OneDrive-Pessoal/01.Bruno/01.Ironhack learning Mat/.conda/lib/python3.9/site-packages (from aiohttp<4.0.0,>=3.8.3->langchain-community) (24.3.0)\n",
      "Requirement already satisfied: frozenlist>=1.1.1 in /Users/brunoaugusto/Library/CloudStorage/OneDrive-Pessoal/01.Bruno/01.Ironhack learning Mat/.conda/lib/python3.9/site-packages (from aiohttp<4.0.0,>=3.8.3->langchain-community) (1.5.0)\n",
      "Requirement already satisfied: multidict<7.0,>=4.5 in /Users/brunoaugusto/Library/CloudStorage/OneDrive-Pessoal/01.Bruno/01.Ironhack learning Mat/.conda/lib/python3.9/site-packages (from aiohttp<4.0.0,>=3.8.3->langchain-community) (6.1.0)\n",
      "Requirement already satisfied: propcache>=0.2.0 in /Users/brunoaugusto/Library/CloudStorage/OneDrive-Pessoal/01.Bruno/01.Ironhack learning Mat/.conda/lib/python3.9/site-packages (from aiohttp<4.0.0,>=3.8.3->langchain-community) (0.2.1)\n",
      "Requirement already satisfied: yarl<2.0,>=1.17.0 in /Users/brunoaugusto/Library/CloudStorage/OneDrive-Pessoal/01.Bruno/01.Ironhack learning Mat/.conda/lib/python3.9/site-packages (from aiohttp<4.0.0,>=3.8.3->langchain-community) (1.18.3)\n",
      "Collecting marshmallow<4.0.0,>=3.18.0 (from dataclasses-json<0.7,>=0.5.7->langchain-community)\n",
      "  Downloading marshmallow-3.24.2-py3-none-any.whl.metadata (7.1 kB)\n",
      "Collecting typing-inspect<1,>=0.4.0 (from dataclasses-json<0.7,>=0.5.7->langchain-community)\n",
      "  Downloading typing_inspect-0.9.0-py3-none-any.whl.metadata (1.5 kB)\n",
      "Requirement already satisfied: langchain-text-splitters<0.4.0,>=0.3.3 in /Users/brunoaugusto/Library/CloudStorage/OneDrive-Pessoal/01.Bruno/01.Ironhack learning Mat/.conda/lib/python3.9/site-packages (from langchain<0.4.0,>=0.3.14->langchain-community) (0.3.3)\n",
      "Requirement already satisfied: pydantic<3.0.0,>=2.7.4 in /Users/brunoaugusto/Library/CloudStorage/OneDrive-Pessoal/01.Bruno/01.Ironhack learning Mat/.conda/lib/python3.9/site-packages (from langchain<0.4.0,>=0.3.14->langchain-community) (2.10.3)\n",
      "Requirement already satisfied: jsonpatch<2.0,>=1.33 in /Users/brunoaugusto/Library/CloudStorage/OneDrive-Pessoal/01.Bruno/01.Ironhack learning Mat/.conda/lib/python3.9/site-packages (from langchain-core<0.4.0,>=0.3.29->langchain-community) (1.33)\n",
      "Requirement already satisfied: packaging<25,>=23.2 in /Users/brunoaugusto/Library/CloudStorage/OneDrive-Pessoal/01.Bruno/01.Ironhack learning Mat/.conda/lib/python3.9/site-packages (from langchain-core<0.4.0,>=0.3.29->langchain-community) (24.1)\n",
      "Requirement already satisfied: typing-extensions>=4.7 in /Users/brunoaugusto/Library/CloudStorage/OneDrive-Pessoal/01.Bruno/01.Ironhack learning Mat/.conda/lib/python3.9/site-packages (from langchain-core<0.4.0,>=0.3.29->langchain-community) (4.12.2)\n",
      "Requirement already satisfied: httpx<1,>=0.23.0 in /Users/brunoaugusto/Library/CloudStorage/OneDrive-Pessoal/01.Bruno/01.Ironhack learning Mat/.conda/lib/python3.9/site-packages (from langsmith<0.3,>=0.1.125->langchain-community) (0.28.1)\n",
      "Requirement already satisfied: orjson<4.0.0,>=3.9.14 in /Users/brunoaugusto/Library/CloudStorage/OneDrive-Pessoal/01.Bruno/01.Ironhack learning Mat/.conda/lib/python3.9/site-packages (from langsmith<0.3,>=0.1.125->langchain-community) (3.10.12)\n",
      "Requirement already satisfied: requests-toolbelt<2.0.0,>=1.0.0 in /Users/brunoaugusto/Library/CloudStorage/OneDrive-Pessoal/01.Bruno/01.Ironhack learning Mat/.conda/lib/python3.9/site-packages (from langsmith<0.3,>=0.1.125->langchain-community) (1.0.0)\n",
      "Requirement already satisfied: python-dotenv>=0.21.0 in /Users/brunoaugusto/Library/CloudStorage/OneDrive-Pessoal/01.Bruno/01.Ironhack learning Mat/.conda/lib/python3.9/site-packages (from pydantic-settings<3.0.0,>=2.4.0->langchain-community) (1.0.1)\n",
      "Requirement already satisfied: charset_normalizer<4,>=2 in /Users/brunoaugusto/Library/CloudStorage/OneDrive-Pessoal/01.Bruno/01.Ironhack learning Mat/.conda/lib/python3.9/site-packages (from requests<3,>=2->langchain-community) (3.4.0)\n",
      "Requirement already satisfied: idna<4,>=2.5 in /Users/brunoaugusto/Library/CloudStorage/OneDrive-Pessoal/01.Bruno/01.Ironhack learning Mat/.conda/lib/python3.9/site-packages (from requests<3,>=2->langchain-community) (3.10)\n",
      "Requirement already satisfied: urllib3<3,>=1.21.1 in /Users/brunoaugusto/Library/CloudStorage/OneDrive-Pessoal/01.Bruno/01.Ironhack learning Mat/.conda/lib/python3.9/site-packages (from requests<3,>=2->langchain-community) (2.2.3)\n",
      "Requirement already satisfied: certifi>=2017.4.17 in /Users/brunoaugusto/Library/CloudStorage/OneDrive-Pessoal/01.Bruno/01.Ironhack learning Mat/.conda/lib/python3.9/site-packages (from requests<3,>=2->langchain-community) (2024.12.14)\n",
      "Requirement already satisfied: greenlet!=0.4.17 in /Users/brunoaugusto/Library/CloudStorage/OneDrive-Pessoal/01.Bruno/01.Ironhack learning Mat/.conda/lib/python3.9/site-packages (from SQLAlchemy<3,>=1.4->langchain-community) (3.1.1)\n",
      "Requirement already satisfied: anyio in /Users/brunoaugusto/Library/CloudStorage/OneDrive-Pessoal/01.Bruno/01.Ironhack learning Mat/.conda/lib/python3.9/site-packages (from httpx<1,>=0.23.0->langsmith<0.3,>=0.1.125->langchain-community) (4.7.0)\n",
      "Requirement already satisfied: httpcore==1.* in /Users/brunoaugusto/Library/CloudStorage/OneDrive-Pessoal/01.Bruno/01.Ironhack learning Mat/.conda/lib/python3.9/site-packages (from httpx<1,>=0.23.0->langsmith<0.3,>=0.1.125->langchain-community) (1.0.7)\n",
      "Requirement already satisfied: h11<0.15,>=0.13 in /Users/brunoaugusto/Library/CloudStorage/OneDrive-Pessoal/01.Bruno/01.Ironhack learning Mat/.conda/lib/python3.9/site-packages (from httpcore==1.*->httpx<1,>=0.23.0->langsmith<0.3,>=0.1.125->langchain-community) (0.14.0)\n",
      "Requirement already satisfied: jsonpointer>=1.9 in /Users/brunoaugusto/Library/CloudStorage/OneDrive-Pessoal/01.Bruno/01.Ironhack learning Mat/.conda/lib/python3.9/site-packages (from jsonpatch<2.0,>=1.33->langchain-core<0.4.0,>=0.3.29->langchain-community) (3.0.0)\n",
      "Requirement already satisfied: annotated-types>=0.6.0 in /Users/brunoaugusto/Library/CloudStorage/OneDrive-Pessoal/01.Bruno/01.Ironhack learning Mat/.conda/lib/python3.9/site-packages (from pydantic<3.0.0,>=2.7.4->langchain<0.4.0,>=0.3.14->langchain-community) (0.7.0)\n",
      "Requirement already satisfied: pydantic-core==2.27.1 in /Users/brunoaugusto/Library/CloudStorage/OneDrive-Pessoal/01.Bruno/01.Ironhack learning Mat/.conda/lib/python3.9/site-packages (from pydantic<3.0.0,>=2.7.4->langchain<0.4.0,>=0.3.14->langchain-community) (2.27.1)\n",
      "Collecting mypy-extensions>=0.3.0 (from typing-inspect<1,>=0.4.0->dataclasses-json<0.7,>=0.5.7->langchain-community)\n",
      "  Downloading mypy_extensions-1.0.0-py3-none-any.whl.metadata (1.1 kB)\n",
      "Requirement already satisfied: exceptiongroup>=1.0.2 in /Users/brunoaugusto/Library/CloudStorage/OneDrive-Pessoal/01.Bruno/01.Ironhack learning Mat/.conda/lib/python3.9/site-packages (from anyio->httpx<1,>=0.23.0->langsmith<0.3,>=0.1.125->langchain-community) (1.2.0)\n",
      "Requirement already satisfied: sniffio>=1.1 in /Users/brunoaugusto/Library/CloudStorage/OneDrive-Pessoal/01.Bruno/01.Ironhack learning Mat/.conda/lib/python3.9/site-packages (from anyio->httpx<1,>=0.23.0->langsmith<0.3,>=0.1.125->langchain-community) (1.3.1)\n",
      "Downloading langchain_community-0.3.14-py3-none-any.whl (2.5 MB)\n",
      "\u001b[2K   \u001b[90m━━━━━━━━━━━━━━━━━━━━━━━━━━━━━━━━━━━━━━━━\u001b[0m \u001b[32m2.5/2.5 MB\u001b[0m \u001b[31m34.0 MB/s\u001b[0m eta \u001b[36m0:00:00\u001b[0ma \u001b[36m0:00:01\u001b[0m\n",
      "\u001b[?25hDownloading dataclasses_json-0.6.7-py3-none-any.whl (28 kB)\n",
      "Downloading httpx_sse-0.4.0-py3-none-any.whl (7.8 kB)\n",
      "Downloading langchain-0.3.14-py3-none-any.whl (1.0 MB)\n",
      "\u001b[2K   \u001b[90m━━━━━━━━━━━━━━━━━━━━━━━━━━━━━━━━━━━━━━━━\u001b[0m \u001b[32m1.0/1.0 MB\u001b[0m \u001b[31m37.4 MB/s\u001b[0m eta \u001b[36m0:00:00\u001b[0m\n",
      "\u001b[?25hDownloading langchain_core-0.3.29-py3-none-any.whl (411 kB)\n",
      "Downloading pydantic_settings-2.7.1-py3-none-any.whl (29 kB)\n",
      "Downloading marshmallow-3.24.2-py3-none-any.whl (49 kB)\n",
      "Downloading typing_inspect-0.9.0-py3-none-any.whl (8.8 kB)\n",
      "Downloading mypy_extensions-1.0.0-py3-none-any.whl (4.7 kB)\n",
      "Installing collected packages: mypy-extensions, marshmallow, httpx-sse, typing-inspect, pydantic-settings, dataclasses-json, langchain-core, langchain, langchain-community\n",
      "  Attempting uninstall: langchain-core\n",
      "    Found existing installation: langchain-core 0.3.25\n",
      "    Uninstalling langchain-core-0.3.25:\n",
      "      Successfully uninstalled langchain-core-0.3.25\n",
      "  Attempting uninstall: langchain\n",
      "    Found existing installation: langchain 0.3.12\n",
      "    Uninstalling langchain-0.3.12:\n",
      "      Successfully uninstalled langchain-0.3.12\n",
      "Successfully installed dataclasses-json-0.6.7 httpx-sse-0.4.0 langchain-0.3.14 langchain-community-0.3.14 langchain-core-0.3.29 marshmallow-3.24.2 mypy-extensions-1.0.0 pydantic-settings-2.7.1 typing-inspect-0.9.0\n",
      "Note: you may need to restart the kernel to use updated packages.\n"
     ]
    }
   ],
   "source": [
    "%pip install langchain-community"
   ]
  },
  {
   "cell_type": "code",
   "execution_count": 4,
   "id": "2868cff1-a3ef-426f-b8d7-7fe89047a5b7",
   "metadata": {
    "tags": []
   },
   "outputs": [],
   "source": [
    "\n",
    "from langchain.chains import RetrievalQA\n",
    "from langchain_community.vectorstores import Chroma\n",
    "from langchain_openai import OpenAI, OpenAIEmbeddings\n",
    "from langchain_text_splitters import CharacterTextSplitter\n",
    "from langchain_community.document_loaders import TextLoader"
   ]
  },
  {
   "cell_type": "code",
   "execution_count": 26,
   "id": "aeff3a2d-b0cc-429f-a34c-4381d71f1a5f",
   "metadata": {
    "tags": []
   },
   "outputs": [],
   "source": [
    "import os\n",
    "from dotenv import load_dotenv, find_dotenv\n",
    "_ = load_dotenv(find_dotenv())\n",
    "\n",
    "OPENAI_API_KEY  = os.getenv('OPENAI_API_KEY')\n",
    "HUGGINGFACEHUB_API_TOKEN = os.getenv('HUGGINGFACEHUB_API_TOKEN')"
   ]
  },
  {
   "cell_type": "code",
   "execution_count": 27,
   "id": "14331eec-fd46-42e0-b6e7-adaf21824ef7",
   "metadata": {
    "tags": []
   },
   "outputs": [],
   "source": [
    "llm = OpenAI(temperature=0)"
   ]
  },
  {
   "cell_type": "code",
   "execution_count": 28,
   "id": "0b7b772b",
   "metadata": {
    "tags": []
   },
   "outputs": [],
   "source": [
    "from pathlib import Path\n",
    "\n",
    "relevant_parts = []\n",
    "for p in Path(\".\").absolute().parts:\n",
    "    relevant_parts.append(p)\n",
    "    if relevant_parts[-3:] == [\"langchain\", \"docs\", \"modules\"]:\n",
    "        break\n",
    "doc_path = str(Path(*relevant_parts) / \"sonnets.txt\")"
   ]
  },
  {
   "cell_type": "code",
   "execution_count": 30,
   "id": "f2675861",
   "metadata": {
    "tags": []
   },
   "outputs": [],
   "source": [
    "loader = TextLoader(doc_path)\n",
    "documents = loader.load()\n",
    "text_splitter = CharacterTextSplitter(chunk_size=1000, chunk_overlap=0)\n",
    "texts = text_splitter.split_documents(documents)\n",
    "\n",
    "embeddings = OpenAIEmbeddings()\n",
    "docsearch = Chroma.from_documents(texts, embeddings, collection_name=\"sonnets\")"
   ]
  },
  {
   "cell_type": "code",
   "execution_count": 31,
   "id": "bc5403d4",
   "metadata": {
    "tags": []
   },
   "outputs": [],
   "source": [
    "sonnets = RetrievalQA.from_chain_type(\n",
    "    llm=llm, chain_type=\"stuff\", retriever=docsearch.as_retriever()\n",
    ")"
   ]
  },
  {
   "cell_type": "code",
   "execution_count": 32,
   "id": "1431cded",
   "metadata": {
    "tags": []
   },
   "outputs": [],
   "source": [
    "from langchain_community.document_loaders import WebBaseLoader"
   ]
  },
  {
   "cell_type": "code",
   "execution_count": 33,
   "id": "915d3ff3",
   "metadata": {
    "tags": []
   },
   "outputs": [],
   "source": [
    "loader = WebBaseLoader(\"https://beta.ruff.rs/docs/faq/\")"
   ]
  },
  {
   "cell_type": "code",
   "execution_count": 34,
   "id": "96a2edf8",
   "metadata": {
    "tags": []
   },
   "outputs": [
    {
     "name": "stderr",
     "output_type": "stream",
     "text": [
      "Created a chunk of size 2122, which is longer than the specified 1000\n",
      "Created a chunk of size 3187, which is longer than the specified 1000\n",
      "Created a chunk of size 1017, which is longer than the specified 1000\n",
      "Created a chunk of size 1256, which is longer than the specified 1000\n",
      "Created a chunk of size 1051, which is longer than the specified 1000\n"
     ]
    }
   ],
   "source": [
    "docs = loader.load()\n",
    "ruff_texts = text_splitter.split_documents(docs)\n",
    "ruff_db = Chroma.from_documents(ruff_texts, embeddings, collection_name=\"ruff\")\n",
    "ruff = RetrievalQA.from_chain_type(\n",
    "    llm=llm, chain_type=\"stuff\", retriever=ruff_db.as_retriever()\n",
    ")"
   ]
  },
  {
   "cell_type": "markdown",
   "id": "c0a6c031",
   "metadata": {},
   "source": [
    "## Create the Agent"
   ]
  },
  {
   "cell_type": "code",
   "execution_count": 35,
   "id": "eb142786",
   "metadata": {
    "tags": []
   },
   "outputs": [],
   "source": [
    "# Import things that are needed generically\n",
    "from langchain.agents import AgentType, Tool, initialize_agent\n",
    "from langchain_openai import OpenAI"
   ]
  },
  {
   "cell_type": "code",
   "execution_count": 36,
   "id": "850bc4e9",
   "metadata": {
    "tags": []
   },
   "outputs": [],
   "source": [
    "tools = [\n",
    "    Tool(\n",
    "        name=\"Sonnets QA System\",\n",
    "        func=sonnets.run,\n",
    "        description=\"useful for when you need to answer questions about Shakespeare's sonnets. Input should be a fully formed question.\",\n",
    "    ),\n",
    "    Tool(\n",
    "        name=\"Ruff QA System\",\n",
    "        func=ruff.run,\n",
    "        description=\"useful for when you need to answer questions about ruff (a python linter). Input should be a fully formed question.\",\n",
    "    ),\n",
    "]"
   ]
  },
  {
   "cell_type": "code",
   "execution_count": 37,
   "id": "fc47f230",
   "metadata": {
    "tags": []
   },
   "outputs": [],
   "source": [
    "# Construct the agent. We will use the default agent type here.\n",
    "# See documentation for a full list of options.\n",
    "agent = initialize_agent(\n",
    "    tools, llm, agent=AgentType.ZERO_SHOT_REACT_DESCRIPTION, verbose=True\n",
    ")"
   ]
  },
  {
   "cell_type": "code",
   "execution_count": 39,
   "id": "10ca2db8",
   "metadata": {
    "tags": []
   },
   "outputs": [
    {
     "name": "stdout",
     "output_type": "stream",
     "text": [
      "\n",
      "\n",
      "\u001b[1m> Entering new AgentExecutor chain...\u001b[0m\n",
      "\u001b[32;1m\u001b[1;3m I should use the Sonnets QA System to answer this question.\n",
      "Action: Sonnets QA System\n",
      "Action Input: \"What are the main themes in Shakespeare's sonnets?\"\u001b[0m\n",
      "Observation: \u001b[36;1m\u001b[1;3m The main themes in Shakespeare's sonnets include love, beauty, mortality, time, and the power of poetry. Other recurring themes include jealousy, betrayal, and the complexities of human relationships.\u001b[0m\n",
      "Thought:\u001b[32;1m\u001b[1;3m I now know the final answer.\n",
      "Final Answer: The main themes in Shakespeare's sonnets are love, beauty, mortality, time, and the power of poetry. Other recurring themes include jealousy, betrayal, and the complexities of human relationships.\u001b[0m\n",
      "\n",
      "\u001b[1m> Finished chain.\u001b[0m\n"
     ]
    },
    {
     "data": {
      "text/plain": [
       "{'input': \"What are the main themes in Shakespeare's sonnets?\",\n",
       " 'output': \"The main themes in Shakespeare's sonnets are love, beauty, mortality, time, and the power of poetry. Other recurring themes include jealousy, betrayal, and the complexities of human relationships.\"}"
      ]
     },
     "execution_count": 39,
     "metadata": {},
     "output_type": "execute_result"
    }
   ],
   "source": [
    "agent.invoke(\n",
    "    \"What are the main themes in Shakespeare's sonnets?\"\n",
    ")"
   ]
  },
  {
   "cell_type": "code",
   "execution_count": 40,
   "id": "4e91b811",
   "metadata": {
    "tags": []
   },
   "outputs": [
    {
     "name": "stdout",
     "output_type": "stream",
     "text": [
      "\n",
      "\n",
      "\u001b[1m> Entering new AgentExecutor chain...\u001b[0m\n",
      "\u001b[32;1m\u001b[1;3m It's important to understand the differences between tools before making a decision.\n",
      "Action: Ruff QA System\n",
      "Action Input: \"What are the differences between ruff and flake8?\"\u001b[0m\n",
      "Observation: \u001b[33;1m\u001b[1;3m Ruff and Flake8 are both linters for Python code, but they have some key differences. Ruff uses different rule codes and prefixes than Flake8, which helps minimize conflicts across plugins and allows for easier toggling of individual plugins. Ruff also has a larger rule set, with over 800 rules compared to Flake8's ~409 rules. However, Ruff does not support custom lint rules, while Flake8 does. Additionally, Ruff is not a \"pure\" drop-in replacement for Flake8, as they enforce different sets of rules. Ruff also has a formatter that is designed to be a drop-in replacement for Black, while Flake8 does not have a built-in formatter.\u001b[0m\n",
      "Thought:\u001b[32;1m\u001b[1;3m I now know the differences between ruff and flake8.\n",
      "Final Answer: Ruff has a larger rule set and a built-in formatter, but does not support custom lint rules like Flake8 does.\u001b[0m\n",
      "\n",
      "\u001b[1m> Finished chain.\u001b[0m\n"
     ]
    },
    {
     "data": {
      "text/plain": [
       "{'input': 'Why use ruff over flake8?',\n",
       " 'output': 'Ruff has a larger rule set and a built-in formatter, but does not support custom lint rules like Flake8 does.'}"
      ]
     },
     "execution_count": 40,
     "metadata": {},
     "output_type": "execute_result"
    }
   ],
   "source": [
    "agent.invoke(\"Why use ruff over flake8?\")"
   ]
  },
  {
   "cell_type": "markdown",
   "id": "787a9b5e",
   "metadata": {},
   "source": [
    "## Use the Agent solely as a router"
   ]
  },
  {
   "cell_type": "markdown",
   "id": "9161ba91",
   "metadata": {},
   "source": [
    "You can also set `return_direct=True` if you intend to use the agent as a router and just want to directly return the result of the RetrievalQAChain.\n",
    "\n",
    "Notice that in the above examples the agent did some extra work after querying the RetrievalQAChain. You can avoid that and just return the result directly."
   ]
  },
  {
   "cell_type": "code",
   "execution_count": 46,
   "id": "f59b377e",
   "metadata": {
    "tags": []
   },
   "outputs": [],
   "source": [
    "tools = [\n",
    "    Tool(\n",
    "        name=\"Sonnets QA System\",\n",
    "        func=sonnets.run,\n",
    "        description=\"useful for when you need to answer questions about Shakespeare's sonnets. Input should be a fully formed question.\",\n",
    "        return_direct=True,\n",
    "    ),\n",
    "    Tool(\n",
    "        name=\"Ruff QA System\",\n",
    "        func=ruff.run,\n",
    "        description=\"useful for when you need to answer questions about ruff (a python linter). Input should be a fully formed question.\",\n",
    "        return_direct=True,\n",
    "    ),\n",
    "]"
   ]
  },
  {
   "cell_type": "code",
   "execution_count": 47,
   "id": "8615707a",
   "metadata": {
    "tags": []
   },
   "outputs": [],
   "source": [
    "agent = initialize_agent(\n",
    "    tools, llm, agent=AgentType.ZERO_SHOT_REACT_DESCRIPTION, verbose=True\n",
    ")"
   ]
  },
  {
   "cell_type": "code",
   "execution_count": 48,
   "id": "36e718a9",
   "metadata": {
    "tags": []
   },
   "outputs": [
    {
     "name": "stdout",
     "output_type": "stream",
     "text": [
      "\n",
      "\n",
      "\u001b[1m> Entering new AgentExecutor chain...\u001b[0m\n",
      "\u001b[32;1m\u001b[1;3m I should use the Sonnets QA System to answer this question.\n",
      "Action: Sonnets QA System\n",
      "Action Input: \"What are the main themes in Shakespeare's sonnets?\"\u001b[0m\n",
      "Observation: \u001b[36;1m\u001b[1;3m The main themes in Shakespeare's sonnets include love, beauty, mortality, time, and the power of poetry. Other recurring themes include jealousy, betrayal, and the complexities of human relationships.\u001b[0m\n",
      "\u001b[32;1m\u001b[1;3m\u001b[0m\n",
      "\n",
      "\u001b[1m> Finished chain.\u001b[0m\n"
     ]
    },
    {
     "data": {
      "text/plain": [
       "{'input': \"What are the main themes in Shakespeare's sonnets?\",\n",
       " 'output': \" The main themes in Shakespeare's sonnets include love, beauty, mortality, time, and the power of poetry. Other recurring themes include jealousy, betrayal, and the complexities of human relationships.\"}"
      ]
     },
     "execution_count": 48,
     "metadata": {},
     "output_type": "execute_result"
    }
   ],
   "source": [
    "agent.invoke(\n",
    "    \"What are the main themes in Shakespeare's sonnets?\"\n",
    ")"
   ]
  },
  {
   "cell_type": "code",
   "execution_count": 45,
   "id": "edfd0a1a",
   "metadata": {
    "tags": []
   },
   "outputs": [
    {
     "name": "stdout",
     "output_type": "stream",
     "text": [
      "\n",
      "\n",
      "\u001b[1m> Entering new AgentExecutor chain...\u001b[0m\n",
      "\u001b[32;1m\u001b[1;3m It's important to understand the differences between tools before making a decision.\n",
      "Action: Ruff QA System\n",
      "Action Input: \"What are the differences between ruff and flake8?\"\u001b[0m\n",
      "Observation: \u001b[33;1m\u001b[1;3m Ruff and Flake8 are both linters for Python code, but they have some key differences. Ruff uses different rule codes and prefixes than Flake8, which helps minimize conflicts across plugins and allows for easier toggling of individual plugins. Ruff also has a larger rule set, with over 800 rules compared to Flake8's ~409 rules. However, Ruff does not support custom lint rules, while Flake8 does. Additionally, Ruff is not a \"pure\" drop-in replacement for Flake8, as they enforce different sets of rules. Ruff also has a formatter that is designed to be a drop-in replacement for Black, while Flake8 does not have a built-in formatter.\u001b[0m\n",
      "\u001b[32;1m\u001b[1;3m\u001b[0m\n",
      "\n",
      "\u001b[1m> Finished chain.\u001b[0m\n"
     ]
    },
    {
     "data": {
      "text/plain": [
       "{'input': 'Why use ruff over flake8?',\n",
       " 'output': ' Ruff and Flake8 are both linters for Python code, but they have some key differences. Ruff uses different rule codes and prefixes than Flake8, which helps minimize conflicts across plugins and allows for easier toggling of individual plugins. Ruff also has a larger rule set, with over 800 rules compared to Flake8\\'s ~409 rules. However, Ruff does not support custom lint rules, while Flake8 does. Additionally, Ruff is not a \"pure\" drop-in replacement for Flake8, as they enforce different sets of rules. Ruff also has a formatter that is designed to be a drop-in replacement for Black, while Flake8 does not have a built-in formatter.'}"
      ]
     },
     "execution_count": 45,
     "metadata": {},
     "output_type": "execute_result"
    }
   ],
   "source": [
    "agent.invoke(\"Why use ruff over flake8?\")"
   ]
  },
  {
   "cell_type": "markdown",
   "id": "49a0cbbe",
   "metadata": {},
   "source": [
    "## Multi-Hop vector store reasoning\n",
    "\n",
    "Because vector stores are easily usable as tools in agents, it is easy to use answer multi-hop questions that depend on vector stores using the existing agent framework."
   ]
  },
  {
   "cell_type": "code",
   "execution_count": 55,
   "id": "d397a233",
   "metadata": {
    "tags": []
   },
   "outputs": [],
   "source": [
    "tools = [\n",
    "    Tool(\n",
    "        name=\"Sonnets QA System\",\n",
    "        func=sonnets.run,\n",
    "        description=\"useful for when you need to answer questions about Shakespeare's sonnets. Input should be a fully formed question, not referencing any obscure pronouns from the conversation before.\",\n",
    "        return_direct=True,\n",
    "    ),\n",
    "    Tool(\n",
    "        name=\"Ruff QA System\",\n",
    "        func=ruff.run,\n",
    "        description=\"useful for when you need to answer questions about ruff (a python linter). Input should be a fully formed question, not referencing any obscure pronouns from the conversation before.\",\n",
    "        return_direct=True,\n",
    "    ),\n",
    "]"
   ]
  },
  {
   "cell_type": "code",
   "execution_count": 50,
   "id": "06157240",
   "metadata": {
    "tags": []
   },
   "outputs": [],
   "source": [
    "# Construct the agent. We will use the default agent type here.\n",
    "# See documentation for a full list of options.\n",
    "agent = initialize_agent(\n",
    "    tools, llm, agent=AgentType.ZERO_SHOT_REACT_DESCRIPTION, verbose=True\n",
    ")"
   ]
  },
  {
   "cell_type": "code",
   "execution_count": 56,
   "id": "b9296233",
   "metadata": {},
   "outputs": [],
   "source": [
    "agent2 = initialize_agent(\n",
    "    tools,\n",
    "    llm,\n",
    "    agent=AgentType.STRUCTURED_CHAT_ZERO_SHOT_REACT_DESCRIPTION,\n",
    "    verbose=True,\n",
    "    max_iterations=3,\n",
    "    handle_parsing_errors=True\n",
    ")\n"
   ]
  },
  {
   "cell_type": "code",
   "execution_count": 51,
   "id": "b492b520",
   "metadata": {
    "tags": []
   },
   "outputs": [
    {
     "name": "stdout",
     "output_type": "stream",
     "text": [
      "\n",
      "\n",
      "\u001b[1m> Entering new AgentExecutor chain...\u001b[0m\n",
      "\u001b[32;1m\u001b[1;3m I should use the Ruff QA System to answer the first question and the Sonnets QA System to answer the second question.\n",
      "Action: Ruff QA System\n",
      "Action Input: What tool does ruff use to run over Jupyter Notebooks?\u001b[0m\n",
      "Observation: \u001b[33;1m\u001b[1;3m Ruff does not currently have support for Jupyter Notebooks.\u001b[0m\n",
      "\u001b[32;1m\u001b[1;3m\u001b[0m\n",
      "\n",
      "\u001b[1m> Finished chain.\u001b[0m\n"
     ]
    },
    {
     "data": {
      "text/plain": [
       "{'input': \"What tool does ruff use to run over Jupyter Notebooks? Did the Shakespeare's mention that tool in the sonnets?\",\n",
       " 'output': ' Ruff does not currently have support for Jupyter Notebooks.'}"
      ]
     },
     "execution_count": 51,
     "metadata": {},
     "output_type": "execute_result"
    }
   ],
   "source": [
    "agent.invoke(\n",
    "    \"What tool does ruff use to run over Jupyter Notebooks? Did the Shakespeare's mention that tool in the sonnets?\"\n",
    ")"
   ]
  },
  {
   "cell_type": "code",
   "execution_count": 57,
   "id": "b5d52c20",
   "metadata": {},
   "outputs": [
    {
     "name": "stdout",
     "output_type": "stream",
     "text": [
      "\n",
      "\n",
      "\u001b[1m> Entering new AgentExecutor chain...\u001b[0m\n",
      "\u001b[32;1m\u001b[1;3mAction:\n",
      "{\n",
      "  \"action\": \"Ruff QA System\",\n",
      "  \"action_input\": \"What tool does ruff use to run over Jupyter Notebooks?\"\n",
      "}\n",
      "\n",
      "\u001b[0m\n",
      "\n",
      "\u001b[1m> Finished chain.\u001b[0m\n"
     ]
    },
    {
     "data": {
      "text/plain": [
       "{'input': \"What tool does ruff use to run over Jupyter Notebooks? Did the Shakespeare's mention that tool in the sonnets?\",\n",
       " 'output': 'Action:\\n{\\n  \"action\": \"Ruff QA System\",\\n  \"action_input\": \"What tool does ruff use to run over Jupyter Notebooks?\"\\n}\\n\\n'}"
      ]
     },
     "execution_count": 57,
     "metadata": {},
     "output_type": "execute_result"
    }
   ],
   "source": [
    "agent2.invoke(\n",
    "    \"What tool does ruff use to run over Jupyter Notebooks? Did the Shakespeare's mention that tool in the sonnets?\"\n",
    ")\n"
   ]
  }
 ],
 "metadata": {
  "kernelspec": {
   "display_name": "Python 3",
   "language": "python",
   "name": "python3"
  },
  "language_info": {
   "codemirror_mode": {
    "name": "ipython",
    "version": 3
   },
   "file_extension": ".py",
   "mimetype": "text/x-python",
   "name": "python",
   "nbconvert_exporter": "python",
   "pygments_lexer": "ipython3",
   "version": "3.9.20"
  }
 },
 "nbformat": 4,
 "nbformat_minor": 5
}
