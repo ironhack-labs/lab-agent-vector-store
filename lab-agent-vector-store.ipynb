{
 "cells": [
  {
   "cell_type": "markdown",
   "id": "efad6479-7fb1-40c4-8610-8963f8de307f",
   "metadata": {},
   "source": [
    "# Lab | Agent & Vector store\n",
    "\n",
    "**Change the state union dataset and replicate this lab by updating the prompts accordingly.**\n",
    "\n",
    "One such dataset is the [sonnets.txt](https://github.com/martin-gorner/tensorflow-rnn-shakespeare/blob/master/shakespeare/sonnets.txt) dataset or any other data of your choice from the same git."
   ]
  },
  {
   "cell_type": "markdown",
   "id": "68b24990",
   "metadata": {},
   "source": [
    "# Combine agents and vector stores\n",
    "\n",
    "This notebook covers how to combine agents and vector stores. The use case for this is that you've ingested your data into a vector store and want to interact with it in an agentic manner.\n",
    "\n",
    "The recommended method for doing so is to create a `RetrievalQA` and then use that as a tool in the overall agent. Let's take a look at doing this below. You can do this with multiple different vector DBs, and use the agent as a way to route between them. There are two different ways of doing this - you can either let the agent use the vector stores as normal tools, or you can set `return_direct=True` to really just use the agent as a router."
   ]
  },
  {
   "cell_type": "markdown",
   "id": "9b22020a",
   "metadata": {},
   "source": [
    "## Create the vector store"
   ]
  },
  {
   "cell_type": "code",
   "execution_count": null,
   "id": "12df91e0-7322-43c2-96cd-0159d017a1e1",
   "metadata": {
    "tags": []
   },
   "outputs": [],
   "source": [
    "!pip install chromadb"
   ]
  },
  {
   "cell_type": "code",
   "execution_count": 1,
   "id": "2868cff1-a3ef-426f-b8d7-7fe89047a5b7",
   "metadata": {
    "tags": []
   },
   "outputs": [],
   "source": [
    "from langchain.chains import RetrievalQA\n",
    "from langchain_community.vectorstores import Chroma\n",
    "from langchain_openai import OpenAI, OpenAIEmbeddings\n",
    "from langchain_text_splitters import CharacterTextSplitter\n",
    "from langchain_community.document_loaders import TextLoader"
   ]
  },
  {
   "cell_type": "code",
   "execution_count": 2,
   "id": "aeff3a2d-b0cc-429f-a34c-4381d71f1a5f",
   "metadata": {
    "tags": []
   },
   "outputs": [],
   "source": [
    "import os\n",
    "from dotenv import load_dotenv, find_dotenv\n",
    "_ = load_dotenv(find_dotenv())\n",
    "\n",
    "OPENAI_API_KEY  = os.getenv('OPENAI_API_KEY')\n",
    "HUGGINGFACEHUB_API_TOKEN = os.getenv('HUGGINGFACEHUB_API_TOKEN')"
   ]
  },
  {
   "cell_type": "code",
   "execution_count": 3,
   "id": "14331eec-fd46-42e0-b6e7-adaf21824ef7",
   "metadata": {
    "tags": []
   },
   "outputs": [],
   "source": [
    "llm = OpenAI(temperature=0)"
   ]
  },
  {
   "cell_type": "code",
   "execution_count": 13,
   "id": "0b7b772b",
   "metadata": {
    "tags": []
   },
   "outputs": [],
   "source": [
    "# This code attempts to find the path to a \"state_of_the_union.txt\" file by:\n",
    "# 1. Starting from current directory and getting its absolute path parts\n",
    "# 2. Building up path parts until it finds \"langchain/docs/modules\" sequence\n",
    "# 3. Using those parts to construct path to the text file\n",
    "# However, this approach seems unnecessary since we just need the file directly\n",
    "from pathlib import Path\n",
    "\"\"\"\n",
    "relevant_parts = []\n",
    "for p in Path(\".\").absolute().parts:\n",
    "    relevant_parts.append(p)\n",
    "    if relevant_parts[-3:] == [\"langchain\", \"docs\", \"modules\"]:\n",
    "        break\n",
    "doc_path = str(Path(*relevant_parts) / \"state_of_the_union.txt\")\n",
    "\"\"\"\n",
    "## lOAD SONNET.TXT\n",
    "doc_path = 'D:/IRON_HACK/Week6_LangChain/Lessons/archive/sonnets.txt'\n"
   ]
  },
  {
   "cell_type": "code",
   "execution_count": 5,
   "id": "f2675861",
   "metadata": {
    "tags": []
   },
   "outputs": [],
   "source": [
    "loader = TextLoader(doc_path)\n",
    "documents = loader.load()\n",
    "text_splitter = CharacterTextSplitter(chunk_size=1000, chunk_overlap=0)\n",
    "texts = text_splitter.split_documents(documents)\n",
    "\n",
    "embeddings = OpenAIEmbeddings()\n",
    "docsearch = Chroma.from_documents(texts, embeddings, collection_name=\"sonnets\")"
   ]
  },
  {
   "cell_type": "code",
   "execution_count": 6,
   "id": "bc5403d4",
   "metadata": {
    "tags": []
   },
   "outputs": [],
   "source": [
    "#state_of_union = RetrievalQA.from_chain_type(\n",
    "#    llm=llm, chain_type=\"stuff\", retriever=docsearch.as_retriever()\n",
    "#)\n",
    "\n",
    "sonnets = RetrievalQA.from_chain_type(\n",
    "    llm=llm, chain_type=\"stuff\", retriever=docsearch.as_retriever()\n",
    ")"
   ]
  },
  {
   "cell_type": "code",
   "execution_count": 7,
   "id": "1431cded",
   "metadata": {
    "tags": []
   },
   "outputs": [
    {
     "name": "stderr",
     "output_type": "stream",
     "text": [
      "USER_AGENT environment variable not set, consider setting it to identify your requests.\n"
     ]
    }
   ],
   "source": [
    "from langchain_community.document_loaders import WebBaseLoader"
   ]
  },
  {
   "cell_type": "code",
   "execution_count": 8,
   "id": "915d3ff3",
   "metadata": {
    "tags": []
   },
   "outputs": [],
   "source": [
    "loader = WebBaseLoader(\"https://beta.ruff.rs/docs/faq/\")"
   ]
  },
  {
   "cell_type": "code",
   "execution_count": 9,
   "id": "96a2edf8",
   "metadata": {
    "tags": []
   },
   "outputs": [
    {
     "name": "stderr",
     "output_type": "stream",
     "text": [
      "Created a chunk of size 2122, which is longer than the specified 1000\n",
      "Created a chunk of size 3187, which is longer than the specified 1000\n",
      "Created a chunk of size 1017, which is longer than the specified 1000\n",
      "Created a chunk of size 1256, which is longer than the specified 1000\n",
      "Created a chunk of size 1051, which is longer than the specified 1000\n"
     ]
    }
   ],
   "source": [
    "docs = loader.load()\n",
    "ruff_texts = text_splitter.split_documents(docs)\n",
    "ruff_db = Chroma.from_documents(ruff_texts, embeddings, collection_name=\"ruff\")\n",
    "ruff = RetrievalQA.from_chain_type(\n",
    "    llm=llm, chain_type=\"stuff\", retriever=ruff_db.as_retriever()\n",
    ")"
   ]
  },
  {
   "cell_type": "markdown",
   "id": "c0a6c031",
   "metadata": {},
   "source": [
    "## Create the Agent"
   ]
  },
  {
   "cell_type": "code",
   "execution_count": 10,
   "id": "eb142786",
   "metadata": {
    "tags": []
   },
   "outputs": [],
   "source": [
    "# Import things that are needed generically\n",
    "from langchain.agents import AgentType, Tool, initialize_agent\n",
    "from langchain_openai import OpenAI"
   ]
  },
  {
   "cell_type": "code",
   "execution_count": 16,
   "id": "850bc4e9",
   "metadata": {
    "tags": []
   },
   "outputs": [],
   "source": [
    "tools = [\n",
    "    #Tool(\n",
    "    #    name=\"State of Union QA System\",\n",
    "    #    func=state_of_union.run,\n",
    "    #    description=\"useful for when you need to answer questions about the most recent state of the union address. Input should be a fully formed question.\",\n",
    "    #),\n",
    "    Tool(\n",
    "        name=\"Ruff QA System\",\n",
    "        func=ruff.run,\n",
    "        description=\"useful for when you need to answer questions about ruff (a python linter). Input should be a fully formed question.\",\n",
    "    ),\n",
    "    Tool(\n",
    "        name=\"Sonnets QA System\",\n",
    "        func=sonnets.run,\n",
    "        description=\"useful for when you need to answer questions about sonnets. Input should be a fully formed question.\",\n",
    "    ),\n",
    "]"
   ]
  },
  {
   "cell_type": "code",
   "execution_count": 17,
   "id": "fc47f230",
   "metadata": {
    "tags": []
   },
   "outputs": [],
   "source": [
    "# Construct the agent. We will use the default agent type here.\n",
    "# See documentation for a full list of options.\n",
    "agent = initialize_agent(\n",
    "    tools, llm, agent=AgentType.ZERO_SHOT_REACT_DESCRIPTION, verbose=True\n",
    ")"
   ]
  },
  {
   "cell_type": "code",
   "execution_count": 18,
   "id": "10ca2db8",
   "metadata": {
    "tags": []
   },
   "outputs": [
    {
     "name": "stdout",
     "output_type": "stream",
     "text": [
      "\n",
      "\n",
      "\u001b[1m> Entering new AgentExecutor chain...\u001b[0m\n",
      "\u001b[32;1m\u001b[1;3m A sonnet is a type of poem with a specific structure and rhyme scheme.\n",
      "Action: Sonnets QA System\n",
      "Action Input: \"What is a sonnet and what are its key characteristics?\"\u001b[0m\n",
      "Observation: \u001b[33;1m\u001b[1;3m A sonnet is a type of poem that originated in Italy and is typically composed of 14 lines. It follows a specific rhyme scheme and structure, with a volta or turn in the middle. Sonnets often explore themes of love, beauty, and mortality. They are known for their use of figurative language, such as metaphors and similes, and their use of iambic pentameter. Sonnets are also known for their brevity and their ability to convey complex emotions and ideas in a concise manner.\u001b[0m\n",
      "Thought:\u001b[32;1m\u001b[1;3m This is a comprehensive answer, but I want to confirm it with another source.\n",
      "Action: Ruff QA System\n",
      "Action Input: \"What are the key characteristics of a sonnet?\"\u001b[0m\n",
      "Observation: \u001b[36;1m\u001b[1;3m I don't know.\u001b[0m\n",
      "Thought:\u001b[32;1m\u001b[1;3m It seems like the Ruff QA System is not as knowledgeable about poetry as the Sonnets QA System.\n",
      "Action: Sonnets QA System\n",
      "Action Input: \"What are the key characteristics of a sonnet?\"\u001b[0m\n",
      "Observation: \u001b[33;1m\u001b[1;3m A sonnet is a type of poem that has 14 lines and follows a specific rhyme scheme. It typically explores a single theme or idea and often uses poetic devices such as metaphors and imagery. Sonnets are also known for their use of iambic pentameter, a rhythmic pattern of 10 syllables per line. They often have a volta, or turn, in the last two lines where the tone or perspective of the poem shifts. Additionally, sonnets are traditionally written in a specific form, such as the Shakespearean or Petrarchan sonnet.\u001b[0m\n",
      "Thought:\u001b[32;1m\u001b[1;3m This answer aligns with what I already know about sonnets.\n",
      "Final Answer: A sonnet is a type of poem with 14 lines, a specific rhyme scheme, and a volta or turn. It often explores a single theme and uses poetic devices such as metaphors and imagery. Sonnets are also known for their use of iambic pentameter and are traditionally written in a specific form.\u001b[0m\n",
      "\n",
      "\u001b[1m> Finished chain.\u001b[0m\n"
     ]
    },
    {
     "data": {
      "text/plain": [
       "{'input': 'What is a sonnet and what are its key characteristics?',\n",
       " 'output': 'A sonnet is a type of poem with 14 lines, a specific rhyme scheme, and a volta or turn. It often explores a single theme and uses poetic devices such as metaphors and imagery. Sonnets are also known for their use of iambic pentameter and are traditionally written in a specific form.'}"
      ]
     },
     "execution_count": 18,
     "metadata": {},
     "output_type": "execute_result"
    }
   ],
   "source": [
    "#agent.invoke(\n",
    "#    \"What did biden say about ketanji brown jackson in the state of the union address?\"\n",
    "#)\n",
    "\n",
    "agent.invoke(\"What is a sonnet and what are its key characteristics?\")\n"
   ]
  },
  {
   "cell_type": "code",
   "execution_count": 14,
   "id": "4e91b811",
   "metadata": {
    "tags": []
   },
   "outputs": [
    {
     "name": "stdout",
     "output_type": "stream",
     "text": [
      "\n",
      "\n",
      "\u001b[1m> Entering new AgentExecutor chain...\u001b[0m\n",
      "\u001b[32;1m\u001b[1;3m Ruff and flake8 are both python linters, so they have similar functions. However, there may be specific reasons why one would choose ruff over flake8.\n",
      "Action: Ruff QA System\n",
      "Action Input: \"Why use ruff over flake8?\"\u001b[0m\n",
      "Observation: \u001b[36;1m\u001b[1;3m\n",
      "There are a few reasons why someone might choose to use Ruff over Flake8:\n",
      "\n",
      "1. Larger rule set: Ruff implements over 800 rules, while Flake8 only implements around 200. This means that Ruff can catch more potential issues in your code.\n",
      "\n",
      "2. Better compatibility with other tools: Ruff is designed to work well with other tools like Black, isort, and type checkers like Mypy. This means that you can use Ruff alongside these tools to get more comprehensive feedback on your code.\n",
      "\n",
      "3. Automatic fixing of lint violations: Unlike Flake8, Ruff is capable of automatically fixing its own lint violations. This can save you time and effort when fixing issues in your code.\n",
      "\n",
      "4. Native implementation of popular Flake8 plugins: Ruff re-implements some of the most popular Flake8 plugins natively, which means you don't have to install and configure multiple plugins to get the same functionality.\n",
      "\n",
      "Overall, Ruff offers a more comprehensive and user-friendly experience compared to Flake8, making it a popular choice for many developers.\u001b[0m\n",
      "Thought:\u001b[32;1m\u001b[1;3m I now know the final answer\n",
      "Final Answer: Ruff offers a larger rule set, better compatibility with other tools, automatic fixing of lint violations, and native implementation of popular Flake8 plugins, making it a more comprehensive and user-friendly option compared to Flake8.\u001b[0m\n",
      "\n",
      "\u001b[1m> Finished chain.\u001b[0m\n"
     ]
    },
    {
     "data": {
      "text/plain": [
       "{'input': 'Why use ruff over flake8?',\n",
       " 'output': 'Ruff offers a larger rule set, better compatibility with other tools, automatic fixing of lint violations, and native implementation of popular Flake8 plugins, making it a more comprehensive and user-friendly option compared to Flake8.'}"
      ]
     },
     "execution_count": 14,
     "metadata": {},
     "output_type": "execute_result"
    }
   ],
   "source": [
    "agent.invoke(\"Why use ruff over flake8?\")"
   ]
  },
  {
   "cell_type": "markdown",
   "id": "0de7b12e",
   "metadata": {},
   "source": [
    "## Notes:\n",
    "- Until this part we have two RetrevialQA from two database: \n",
    "1.  text file sonnets\n",
    "2. ruff websearch. \n",
    "- Then we created a two tools from these RETRIEVAL FUNTIONS a one agent that will be able to answer questions from thess two databases. "
   ]
  },
  {
   "cell_type": "markdown",
   "id": "787a9b5e",
   "metadata": {},
   "source": [
    "## Use the Agent solely as a router"
   ]
  },
  {
   "cell_type": "markdown",
   "id": "9161ba91",
   "metadata": {},
   "source": [
    "You can also set `return_direct=True` if you intend to use the agent as a router and just want to directly return the result of the RetrievalQAChain.\n",
    "\n",
    "Notice that in the above examples the agent did some extra work after querying the RetrievalQAChain. You can avoid that and just return the result directly."
   ]
  },
  {
   "cell_type": "code",
   "execution_count": 22,
   "id": "f59b377e",
   "metadata": {
    "tags": []
   },
   "outputs": [],
   "source": [
    "tools = [\n",
    "    #Tool(\n",
    "    #    name=\"State of Union QA System\",\n",
    "    #    func=state_of_union.run,\n",
    "    #    description=\"useful for when you need to answer questions about the most recent state of the union address. Input should be a fully formed question.\",\n",
    "    #    return_direct=True,\n",
    "    #),\n",
    "    Tool(\n",
    "        name=\"Ruff QA System\",\n",
    "        func=ruff.run,\n",
    "        description=\"useful for when you need to answer questions about ruff (a python linter). Input should be a fully formed question.\",\n",
    "        return_direct=True,\n",
    "    ),\n",
    "     Tool(\n",
    "        name=\"Sonnets QA System\",\n",
    "        func=sonnets.run,\n",
    "        description=\"useful for when you need to answer questions about sonnets. Input should be a fully formed question.\",\n",
    "        return_direct=True,\n",
    "    ),\n",
    "]"
   ]
  },
  {
   "cell_type": "code",
   "execution_count": 23,
   "id": "8615707a",
   "metadata": {
    "tags": []
   },
   "outputs": [],
   "source": [
    "agent = initialize_agent(\n",
    "    tools, llm, agent=AgentType.ZERO_SHOT_REACT_DESCRIPTION, verbose=True\n",
    ")"
   ]
  },
  {
   "cell_type": "code",
   "execution_count": 24,
   "id": "36e718a9",
   "metadata": {
    "tags": []
   },
   "outputs": [
    {
     "name": "stdout",
     "output_type": "stream",
     "text": [
      "\n",
      "\n",
      "\u001b[1m> Entering new AgentExecutor chain...\u001b[0m\n",
      "\u001b[32;1m\u001b[1;3m A sonnet is a type of poem with a specific structure and rhyme scheme.\n",
      "Action: Sonnets QA System\n",
      "Action Input: \"What is a sonnet and what are its key characteristics?\"\u001b[0m\n",
      "Observation: \u001b[33;1m\u001b[1;3m A sonnet is a type of poem that originated in Italy and is typically composed of 14 lines. It follows a specific rhyme scheme and structure, with a volta or turn in the last two lines. Sonnets often explore themes of love, beauty, and mortality. They are known for their use of poetic devices such as metaphor, imagery, and personification. Some key characteristics of a sonnet include its length, structure, and use of poetic devices.\u001b[0m\n",
      "\u001b[32;1m\u001b[1;3m\u001b[0m\n",
      "\n",
      "\u001b[1m> Finished chain.\u001b[0m\n"
     ]
    },
    {
     "data": {
      "text/plain": [
       "{'input': 'What is a sonnet and what are its key characteristics?',\n",
       " 'output': ' A sonnet is a type of poem that originated in Italy and is typically composed of 14 lines. It follows a specific rhyme scheme and structure, with a volta or turn in the last two lines. Sonnets often explore themes of love, beauty, and mortality. They are known for their use of poetic devices such as metaphor, imagery, and personification. Some key characteristics of a sonnet include its length, structure, and use of poetic devices.'}"
      ]
     },
     "execution_count": 24,
     "metadata": {},
     "output_type": "execute_result"
    }
   ],
   "source": [
    "#agent.invoke(\"What did biden say about ketanji brown jackson in the state of the union address?\")\n",
    "\n",
    "agent.invoke(\"What is a sonnet and what are its key characteristics?\")"
   ]
  },
  {
   "cell_type": "code",
   "execution_count": 25,
   "id": "edfd0a1a",
   "metadata": {
    "tags": []
   },
   "outputs": [
    {
     "name": "stdout",
     "output_type": "stream",
     "text": [
      "\n",
      "\n",
      "\u001b[1m> Entering new AgentExecutor chain...\u001b[0m\n",
      "\u001b[32;1m\u001b[1;3m Ruff and flake8 are both python linters, so they have similar functions. However, there may be specific reasons why one would choose ruff over flake8.\n",
      "Action: Ruff QA System\n",
      "Action Input: \"Why use ruff over flake8?\"\u001b[0m\n",
      "Observation: \u001b[36;1m\u001b[1;3m\n",
      "There are a few reasons why someone might choose to use Ruff over Flake8:\n",
      "\n",
      "1. Larger rule set: Ruff implements over 800 rules, while Flake8 only implements around 200. This means that Ruff can catch more potential issues in your code.\n",
      "\n",
      "2. Better compatibility with other tools: Ruff is designed to work well with other tools like Black, isort, and yesqa, while Flake8 may have conflicts with these tools.\n",
      "\n",
      "3. Automatic fixing of lint violations: Ruff is capable of automatically fixing its own lint violations, while Flake8 does not have this capability.\n",
      "\n",
      "4. Native implementation of popular Flake8 plugins: Ruff natively implements some of the most popular Flake8 plugins, making it more efficient and less prone to conflicts.\n",
      "\n",
      "5. Can be used as a formatter: Ruff can be used as a formatter, making it a more versatile tool than Flake8.\n",
      "\n",
      "Ultimately, the choice between Ruff and Flake8 will depend on the specific needs and preferences of the user.\u001b[0m\n",
      "\u001b[32;1m\u001b[1;3m\u001b[0m\n",
      "\n",
      "\u001b[1m> Finished chain.\u001b[0m\n"
     ]
    },
    {
     "data": {
      "text/plain": [
       "{'input': 'Why use ruff over flake8?',\n",
       " 'output': '\\nThere are a few reasons why someone might choose to use Ruff over Flake8:\\n\\n1. Larger rule set: Ruff implements over 800 rules, while Flake8 only implements around 200. This means that Ruff can catch more potential issues in your code.\\n\\n2. Better compatibility with other tools: Ruff is designed to work well with other tools like Black, isort, and yesqa, while Flake8 may have conflicts with these tools.\\n\\n3. Automatic fixing of lint violations: Ruff is capable of automatically fixing its own lint violations, while Flake8 does not have this capability.\\n\\n4. Native implementation of popular Flake8 plugins: Ruff natively implements some of the most popular Flake8 plugins, making it more efficient and less prone to conflicts.\\n\\n5. Can be used as a formatter: Ruff can be used as a formatter, making it a more versatile tool than Flake8.\\n\\nUltimately, the choice between Ruff and Flake8 will depend on the specific needs and preferences of the user.'}"
      ]
     },
     "execution_count": 25,
     "metadata": {},
     "output_type": "execute_result"
    }
   ],
   "source": [
    "agent.invoke(\"Why use ruff over flake8?\")"
   ]
  },
  {
   "cell_type": "markdown",
   "id": "49a0cbbe",
   "metadata": {},
   "source": [
    "## Multi-Hop vector store reasoning\n",
    "\n",
    "Because vector stores are easily usable as tools in agents, it is easy to use answer multi-hop questions that depend on vector stores using the existing agent framework."
   ]
  },
  {
   "cell_type": "code",
   "execution_count": 26,
   "id": "d397a233",
   "metadata": {
    "tags": []
   },
   "outputs": [],
   "source": [
    "tools = [\n",
    "    #Tool(\n",
    "    #    name=\"State of Union QA System\",\n",
    "    #    func=state_of_union.run,\n",
    "    #    description=\"useful for when you need to answer questions about the most recent state of the union address. Input should be a fully formed question, not referencing any obscure pronouns from the conversation before.\",\n",
    "    #),\n",
    "    Tool(\n",
    "        name=\"Ruff QA System\",\n",
    "        func=ruff.run,\n",
    "        description=\"useful for when you need to answer questions about ruff (a python linter). Input should be a fully formed question, not referencing any obscure pronouns from the conversation before.\",\n",
    "    ),\n",
    "     Tool(\n",
    "        name=\"Sonnets QA System\",\n",
    "        func=sonnets.run,\n",
    "        description=\"useful for when you need to answer questions about sonnets. Input should be a fully formed question.\",\n",
    "    ),\n",
    "]"
   ]
  },
  {
   "cell_type": "code",
   "execution_count": 27,
   "id": "06157240",
   "metadata": {
    "tags": []
   },
   "outputs": [],
   "source": [
    "# Construct the agent. We will use the default agent type here.\n",
    "# See documentation for a full list of options.\n",
    "agent = initialize_agent(\n",
    "    tools, llm, agent=AgentType.ZERO_SHOT_REACT_DESCRIPTION, verbose=True\n",
    ")"
   ]
  },
  {
   "cell_type": "code",
   "execution_count": 28,
   "id": "b492b520",
   "metadata": {
    "tags": []
   },
   "outputs": [
    {
     "name": "stdout",
     "output_type": "stream",
     "text": [
      "\n",
      "\n",
      "\u001b[1m> Entering new AgentExecutor chain...\u001b[0m\n",
      "\u001b[32;1m\u001b[1;3m I should use the Sonnets QA System to answer this question.\n",
      "Action: Sonnets QA System\n",
      "Action Input: \"What are the similarities between sonnets and ruff? Compare their structure and organization.\"\u001b[0m\n",
      "Observation: \u001b[33;1m\u001b[1;3m Sonnets and ruffs both have a structured and organized form. Sonnets typically have 14 lines and follow a specific rhyme scheme, while ruffs have a specific shape and are made up of pleated fabric. Both sonnets and ruffs also have a specific purpose or message, with sonnets often expressing love or admiration and ruffs being a fashion statement. Additionally, both sonnets and ruffs were popular during the Renaissance period.\u001b[0m\n",
      "Thought:\u001b[32;1m\u001b[1;3m I should also use the Ruff QA System to gather more information about ruffs specifically.\n",
      "Action: Ruff QA System\n",
      "Action Input: \"What is the purpose of ruffs?\"\u001b[0m\n",
      "Observation: \u001b[36;1m\u001b[1;3m Ruff is a linter and formatter for Python code. It is designed to help developers catch and fix errors, enforce coding standards, and improve code quality. It can be used as a replacement for Flake8 and can also be used alongside other tools like Black and type checkers.\u001b[0m\n",
      "Thought:\u001b[32;1m\u001b[1;3m I now know the final answer.\n",
      "Final Answer: The similarities between sonnets and ruffs include their structured and organized form, specific purpose or message, and popularity during the Renaissance period. However, sonnets are a form of poetry while ruffs are a tool for improving code quality in Python.\u001b[0m\n",
      "\n",
      "\u001b[1m> Finished chain.\u001b[0m\n"
     ]
    },
    {
     "data": {
      "text/plain": [
       "{'input': 'What are the similarities between sonnets and ruff? Compare their structure and organization.',\n",
       " 'output': 'The similarities between sonnets and ruffs include their structured and organized form, specific purpose or message, and popularity during the Renaissance period. However, sonnets are a form of poetry while ruffs are a tool for improving code quality in Python.'}"
      ]
     },
     "execution_count": 28,
     "metadata": {},
     "output_type": "execute_result"
    }
   ],
   "source": [
    "#agent.invoke(\"What tool does ruff use to run over Jupyter Notebooks? Did the president mention that tool in the state of the union?\")\n",
    "\n",
    "# \n",
    "agent.invoke(\"What are the similarities between sonnets and ruff? Compare their structure and organization.\")"
   ]
  },
  {
   "cell_type": "code",
   "execution_count": 29,
   "id": "8ae4d806",
   "metadata": {},
   "outputs": [
    {
     "name": "stdout",
     "output_type": "stream",
     "text": [
      "\n",
      "\n",
      "\u001b[1m> Entering new AgentExecutor chain...\u001b[0m\n",
      "\u001b[32;1m\u001b[1;3m I should use the Ruff QA System to answer the first question and the Sonnets QA System to answer the second question.\n",
      "Action: Ruff QA System\n",
      "Action Input: What tool does ruff use to run over Jupyter Notebooks?\u001b[0m\n",
      "Observation: \u001b[36;1m\u001b[1;3m Ruff does not currently have a specific tool for running over Jupyter Notebooks. However, it is possible to use Ruff with Jupyter Notebooks by converting the notebook to a Python script and then running Ruff on the script.\u001b[0m\n",
      "Thought:\u001b[32;1m\u001b[1;3m I should now use the Sonnets QA System to answer the second question.\n",
      "Action: Sonnets QA System\n",
      "Action Input: Who wrote the most popular sonnet?\u001b[0m\n",
      "Observation: \u001b[33;1m\u001b[1;3m I don't know.\u001b[0m\n",
      "Thought:\u001b[32;1m\u001b[1;3m I should try rephrasing the question.\n",
      "Action: Sonnets QA System\n",
      "Action Input: Who is the author of the most famous sonnet?\u001b[0m\n",
      "Observation: \u001b[33;1m\u001b[1;3m The most famous sonnet is \"Sonnet 18\" by William Shakespeare.\u001b[0m\n",
      "Thought:\u001b[32;1m\u001b[1;3m I now know the final answer.\n",
      "Final Answer: The most famous sonnet is \"Sonnet 18\" by William Shakespeare.\u001b[0m\n",
      "\n",
      "\u001b[1m> Finished chain.\u001b[0m\n"
     ]
    },
    {
     "data": {
      "text/plain": [
       "{'input': 'What tool does ruff use to run over Jupyter Notebooks? Who wrote the most popular sonnet?',\n",
       " 'output': 'The most famous sonnet is \"Sonnet 18\" by William Shakespeare.'}"
      ]
     },
     "execution_count": 29,
     "metadata": {},
     "output_type": "execute_result"
    }
   ],
   "source": [
    "\n",
    "agent.invoke(\"What tool does ruff use to run over Jupyter Notebooks? Who wrote the most popular sonnet?\")"
   ]
  }
 ],
 "metadata": {
  "kernelspec": {
   "display_name": "Python 3 (ipykernel)",
   "language": "python",
   "name": "python3"
  },
  "language_info": {
   "codemirror_mode": {
    "name": "ipython",
    "version": 3
   },
   "file_extension": ".py",
   "mimetype": "text/x-python",
   "name": "python",
   "nbconvert_exporter": "python",
   "pygments_lexer": "ipython3",
   "version": "3.9.18"
  }
 },
 "nbformat": 4,
 "nbformat_minor": 5
}
